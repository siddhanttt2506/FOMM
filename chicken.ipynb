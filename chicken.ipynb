{
 "cells": [
  {
   "cell_type": "code",
   "execution_count": 2,
   "metadata": {},
   "outputs": [],
   "source": [
    "import matplotlib\n",
    "\n",
    "matplotlib.use('Agg')\n",
    "\n",
    "import os, sys\n",
    "import yaml\n",
    "from argparse import ArgumentParser\n",
    "from time import gmtime, strftime\n",
    "from shutil import copy\n",
    "\n",
    "from frames_dataset import FramesDataset\n",
    "\n",
    "from modules.generator import OcclusionAwareGenerator\n",
    "from modules.discriminator import MultiScaleDiscriminator\n",
    "from modules.keypoint_detector import KPDetector\n",
    "\n",
    "import torch\n",
    "\n",
    "from train import train\n",
    "from reconstruction import reconstruction\n",
    "from animate import animate"
   ]
  },
  {
   "cell_type": "code",
   "execution_count": 3,
   "metadata": {},
   "outputs": [
    {
     "name": "stdout",
     "output_type": "stream",
     "text": [
      "D:\\acads\\fomm_org\n"
     ]
    },
    {
     "name": "stderr",
     "output_type": "stream",
     "text": [
      "C:\\Users\\Acer\\AppData\\Roaming\\Python\\Python312\\site-packages\\IPython\\core\\magics\\osm.py:417: UserWarning: This is now an optional IPython functionality, setting dhist requires you to install the `pickleshare` library.\n",
      "  self.shell.db['dhist'] = compress_dhist(dhist)[-100:]\n"
     ]
    }
   ],
   "source": [
    "cd D:/acads/fomm_org/"
   ]
  },
  {
   "cell_type": "code",
   "execution_count": 4,
   "metadata": {},
   "outputs": [
    {
     "name": "stdout",
     "output_type": "stream",
     "text": [
      "Config Loaded Successfully\n"
     ]
    }
   ],
   "source": [
    "# Load the configuration file\n",
    "config_path = \"D:/acads/fomm_org/config/vox-256.yaml\"  # Replace with your config file path\n",
    "with open(config_path) as f:\n",
    "    config = yaml.load(f, Loader=yaml.FullLoader)\n",
    "print(\"Config Loaded Successfully\")\n"
   ]
  },
  {
   "cell_type": "code",
   "execution_count": 5,
   "metadata": {},
   "outputs": [
    {
     "name": "stdout",
     "output_type": "stream",
     "text": [
      "Models Initialized Successfully\n"
     ]
    },
    {
     "name": "stderr",
     "output_type": "stream",
     "text": [
      "C:\\Users\\Acer\\AppData\\Roaming\\Python\\Python312\\site-packages\\torch\\functional.py:534: UserWarning: torch.meshgrid: in an upcoming release, it will be required to pass the indexing argument. (Triggered internally at C:\\actions-runner\\_work\\pytorch\\pytorch\\builder\\windows\\pytorch\\aten\\src\\ATen\\native\\TensorShape.cpp:3596.)\n",
      "  return _VF.meshgrid(tensors, **kwargs)  # type: ignore[attr-defined]\n"
     ]
    }
   ],
   "source": [
    "# Initialize Generator\n",
    "generator = OcclusionAwareGenerator(**config['model_params']['generator_params'], \n",
    "                                    **config['model_params']['common_params'])\n",
    "\n",
    "# Initialize Discriminator\n",
    "discriminator = MultiScaleDiscriminator(**config['model_params']['discriminator_params'], \n",
    "                                        **config['model_params']['common_params'])\n",
    "\n",
    "# Initialize Keypoint Detector\n",
    "kp_detector = KPDetector(**config['model_params']['kp_detector_params'], \n",
    "                         **config['model_params']['common_params'])\n",
    "\n",
    "# Move models to GPU if available\n",
    "device = torch.device(\"cuda:0\" if torch.cuda.is_available() else \"cpu\")\n",
    "generator.to(device)\n",
    "discriminator.to(device)\n",
    "kp_detector.to(device)\n",
    "\n",
    "print(\"Models Initialized Successfully\")\n"
   ]
  },
  {
   "cell_type": "code",
   "execution_count": 6,
   "metadata": {},
   "outputs": [
    {
     "name": "stdout",
     "output_type": "stream",
     "text": [
      "Use predefined train-test split.\n",
      "Dataset Loaded Successfully\n"
     ]
    }
   ],
   "source": [
    "# Load Dataset\n",
    "dataset = FramesDataset(is_train=True, **config['dataset_params'])\n",
    "print(\"Dataset Loaded Successfully\")\n"
   ]
  },
  {
   "cell_type": "code",
   "execution_count": 7,
   "metadata": {},
   "outputs": [
    {
     "name": "stdout",
     "output_type": "stream",
     "text": [
      "No Checkpoint Provided. Starting Fresh.\n"
     ]
    }
   ],
   "source": [
    "# Load checkpoint if available\n",
    "checkpoint_path = None  # Replace with your checkpoint path if needed\n",
    "if checkpoint_path:\n",
    "    checkpoint = torch.load(checkpoint_path, map_location=device)\n",
    "    generator.load_state_dict(checkpoint['generator'])\n",
    "    discriminator.load_state_dict(checkpoint['discriminator'])\n",
    "    kp_detector.load_state_dict(checkpoint['kp_detector'])\n",
    "    print(\"Checkpoint Loaded Successfully\")\n",
    "else:\n",
    "    print(\"No Checkpoint Provided. Starting Fresh.\")\n"
   ]
  },
  {
   "cell_type": "code",
   "execution_count": 8,
   "metadata": {},
   "outputs": [
    {
     "data": {
      "text/plain": [
       "True"
      ]
     },
     "execution_count": 8,
     "metadata": {},
     "output_type": "execute_result"
    }
   ],
   "source": [
    "import cv2\n",
    "\n",
    "# Read the image\n",
    "image = cv2.imread(\"D:/acads/fomm_org/dp.jpg\")\n",
    "\n",
    "# Resize the image to 256x256\n",
    "resized_image = cv2.resize(image, (256, 256))\n",
    "\n",
    "# Save or display the resized image\n",
    "cv2.imwrite(\"resized_image.jpg\", resized_image)\n"
   ]
  },
  {
   "cell_type": "code",
   "execution_count": 9,
   "metadata": {},
   "outputs": [
    {
     "name": "stdout",
     "output_type": "stream",
     "text": [
      "Keypoints Detected Successfully\n",
      "Keypoints: {'value': tensor([[[ 0.2153,  0.8566],\n",
      "         [-0.3320,  0.3262],\n",
      "         [ 0.3066,  0.5359],\n",
      "         [-0.1835, -0.0015],\n",
      "         [-0.2097,  0.7957],\n",
      "         [ 0.2020,  0.1007],\n",
      "         [-0.3873,  0.5085],\n",
      "         [-0.2195,  0.7425],\n",
      "         [ 0.3237,  0.3248],\n",
      "         [-0.2994,  0.4321]]]), 'jacobian': tensor([[[[1.0000, 0.0000],\n",
      "          [0.0000, 1.0000]],\n",
      "\n",
      "         [[1.0000, 0.0000],\n",
      "          [0.0000, 1.0000]],\n",
      "\n",
      "         [[1.0000, 0.0000],\n",
      "          [0.0000, 1.0000]],\n",
      "\n",
      "         [[1.0000, 0.0000],\n",
      "          [0.0000, 1.0000]],\n",
      "\n",
      "         [[1.0000, 0.0000],\n",
      "          [0.0000, 1.0000]],\n",
      "\n",
      "         [[1.0000, 0.0000],\n",
      "          [0.0000, 1.0000]],\n",
      "\n",
      "         [[1.0000, 0.0000],\n",
      "          [0.0000, 1.0000]],\n",
      "\n",
      "         [[1.0000, 0.0000],\n",
      "          [0.0000, 1.0000]],\n",
      "\n",
      "         [[1.0000, 0.0000],\n",
      "          [0.0000, 1.0000]],\n",
      "\n",
      "         [[1.0000, 0.0000],\n",
      "          [0.0000, 1.0000]]]])}\n"
     ]
    }
   ],
   "source": [
    "from torchvision.transforms import ToTensor\n",
    "from PIL import Image\n",
    "\n",
    "# Test Keypoint Detection\n",
    "test_image_path = \"D:/acads/fomm_org/resized_image.jpg\"  # Replace with a test image path\n",
    "\n",
    "test_image = Image.open(test_image_path).convert('RGB')\n",
    "test_tensor = ToTensor()(test_image).unsqueeze(0).to(device)\n",
    "\n",
    "# Pass through Keypoint Detector\n",
    "with torch.no_grad():\n",
    "    keypoints = kp_detector(test_tensor)\n",
    "\n",
    "print(\"Keypoints Detected Successfully\")\n",
    "print(\"Keypoints:\", keypoints)\n"
   ]
  },
  {
   "cell_type": "code",
   "execution_count": 10,
   "metadata": {},
   "outputs": [
    {
     "name": "stderr",
     "output_type": "stream",
     "text": [
      "C:\\Users\\Acer\\AppData\\Roaming\\Python\\Python312\\site-packages\\torchvision\\models\\_utils.py:208: UserWarning: The parameter 'pretrained' is deprecated since 0.13 and may be removed in the future, please use 'weights' instead.\n",
      "  warnings.warn(\n",
      "C:\\Users\\Acer\\AppData\\Roaming\\Python\\Python312\\site-packages\\torchvision\\models\\_utils.py:223: UserWarning: Arguments other than a weight enum or `None` for 'weights' are deprecated since 0.13 and may be removed in the future. The current behavior is equivalent to passing `weights=VGG19_Weights.IMAGENET1K_V1`. You can also use `weights=VGG19_Weights.DEFAULT` to get the most up-to-date weights.\n",
      "  warnings.warn(msg)\n",
      "  0%|          | 0/1 [00:00<?, ?it/s]"
     ]
    }
   ],
   "source": [
    "# Define log directory\n",
    "log_dir = \"log_directory\"  # Replace with your log directory path\n",
    "os.makedirs(log_dir, exist_ok=True)\n",
    "\n",
    "# Train for one epoch (or full training)\n",
    "train(config, generator, discriminator, kp_detector, checkpoint_path, log_dir, dataset, device_ids=[0])\n"
   ]
  },
  {
   "cell_type": "code",
   "execution_count": null,
   "metadata": {},
   "outputs": [],
   "source": []
  }
 ],
 "metadata": {
  "kernelspec": {
   "display_name": "Python 3",
   "language": "python",
   "name": "python3"
  },
  "language_info": {
   "codemirror_mode": {
    "name": "ipython",
    "version": 3
   },
   "file_extension": ".py",
   "mimetype": "text/x-python",
   "name": "python",
   "nbconvert_exporter": "python",
   "pygments_lexer": "ipython3",
   "version": "3.12.4"
  }
 },
 "nbformat": 4,
 "nbformat_minor": 2
}
